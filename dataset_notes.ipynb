{
 "cells": [
  {
   "cell_type": "markdown",
   "metadata": {},
   "source": [
    "## Dataset Features\n",
    "\n",
    "- **Name**: The full name of the individual.\n",
    "- **Age**: The age of the individual in years.\n",
    "- **Marital Status**: The marital status of the individual. Possible values include:\n",
    "  - Single\n",
    "  - Married\n",
    "  - Divorced\n",
    "  - Widowed\n",
    "- **Education Level**: The highest level of education attained by the individual. Possible values include:\n",
    "  - High School\n",
    "  - Associate Degree\n",
    "  - Bachelor's Degree\n",
    "  - Master's Degree\n",
    "  - PhD\n",
    "- **Number of Children**: The number of children the individual has.\n",
    "- **Smoking Status**: Indicates whether the individual is a smoker or not. Possible values are:\n",
    "  - Smoker\n",
    "  - Former\n",
    "  - Non-smoker\n",
    "- **Physical Activity Level**: The level of physical activity undertaken by the individual. Possible values include:\n",
    "  - Sedentary\n",
    "  - Moderate\n",
    "  - Active\n",
    "- **Employment Status**: The employment status of the individual. Possible values include:\n",
    "  - Employed\n",
    "  - Unemployed\n",
    "- **Income**: The annual income of the individual in USD.\n",
    "- **Alcohol Consumption**: The level of alcohol consumption. Possible values include:\n",
    "  - Low\n",
    "  - Moderate\n",
    "  - High\n",
    "- **Dietary Habits**: The dietary habits of the individual. Possible values include:\n",
    "  - Healthy\n",
    "  - Moderate\n",
    "  - Unhealthy\n",
    "- **Sleep Patterns**: The quality of sleep. Possible values include:\n",
    "  - Good\n",
    "  - Fair\n",
    "  - Poor\n",
    "- **History of Mental Illness**: Whether the individual has a history of mental illness. Possible values are:\n",
    "  - Yes\n",
    "  - No\n",
    "- **History of Substance Abuse**: Whether the individual has a history of substance abuse. Possible values are:\n",
    "  - Yes\n",
    "  - No\n",
    "- **Family History of Depression**: Indicates if there is a family history of depression. Possible values are:\n",
    "  - Yes\n",
    "  - No\n",
    "- **Chronic Medical Conditions**: Whether the individual has chronic medical conditions. Possible values are:\n",
    "  - Yes\n",
    "  - No\n"
   ]
  },
  {
   "cell_type": "markdown",
   "metadata": {},
   "source": []
  }
 ],
 "metadata": {
  "language_info": {
   "name": "python"
  }
 },
 "nbformat": 4,
 "nbformat_minor": 2
}
