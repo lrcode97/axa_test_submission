{
 "cells": [
  {
   "cell_type": "markdown",
   "metadata": {},
   "source": [
    "# Assessment\n",
    "\n",
    "## Use case 2: Predicting mental health\n",
    "\n",
    "Download the Depression Dataset (kaggle.com) from [here](https://www.kaggle.com/datasets/anthonytherrien/depression-dataset/data).\n",
    "\n",
    "### Question 1:\n",
    "\n",
    "Use methods of your choice (e.g. exploratory data analysis, statistical methods, visualisations etc.) to extract useful insights from the data.\n",
    "\n",
    "### Question 2:\n",
    "\n",
    "Use suitable models to predict if an individual will suffer mental illness (variable titled “History of Mental Illness”) using all or some of the other variables present in the data.\n",
    "\n",
    "Your answer should also contain:\n",
    "- Narratives for including/excluding variables of choice;\n",
    "- Narrative supporting the model/s of choice;\n",
    "- An assessment of model performance;\n",
    "- Assessment of potential model biases.\n",
    "\n",
    "### Question 3:\n",
    "\n",
    "What are the limitations of your chosen approach? How can you improve the performance of your model?\n",
    "\n",
    "### Submission Requirements:\n",
    "\n",
    "The submission should contain:\n",
    "- Git repo with code used to develop your solution. At a minimum, your Git repo should contain:\n",
    "    - ReadME file\n",
    "    - `src` folder containing code used to develop your solution\n",
    "    - `test` folder containing any suitable tests you conducted\n",
    "    - Requirements file outlining the libraries required to run your solution\n",
    "- Separate pdf copies of your code\n",
    "- Short presentation (10 minutes) presenting your results to a mixture of technical and non-technical stakeholders"
   ]
  },
  {
   "cell_type": "markdown",
   "metadata": {},
   "source": []
  }
 ],
 "metadata": {
  "language_info": {
   "name": "python"
  }
 },
 "nbformat": 4,
 "nbformat_minor": 2
}
